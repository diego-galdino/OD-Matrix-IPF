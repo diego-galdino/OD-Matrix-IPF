{
 "cells": [
  {
   "cell_type": "code",
   "execution_count": 1,
   "id": "29bb4f27",
   "metadata": {},
   "outputs": [],
   "source": [
    "import numpy as np # NumPy is a library that adds support for large, multi-dimensional arrays and matrices, along with a large collection of high-level mathematical functions to operate on these arrays"
   ]
  },
  {
   "cell_type": "code",
   "execution_count": 7,
   "id": "5c23c5a7",
   "metadata": {},
   "outputs": [],
   "source": [
    "ones_matrix = np.ones((5,5)) # Create a 5x5 matrix of ones\n",
    "null_matrix = np.triu(ones_matrix,1) # Return a copy of the ones_matrix with the elements below the k-th diagonal zeroed.\n",
    "target_on = np.array([20,15,11,2,0]) # Target On input (total boarding)\n",
    "target_off = np.array([0,0,12,21,15]) # Target Off input (total alighting)\n",
    "convergence = 0.01 # Convergence value we want to achieve"
   ]
  },
  {
   "cell_type": "code",
   "execution_count": 8,
   "id": "b571b430",
   "metadata": {},
   "outputs": [],
   "source": [
    "estimated_matrix = null_matrix.copy() # Make a copy of null matrix so it can be updated iteratively\n",
    "highest_ratio_on = 1 # Variable that will be compared to convergence at the end of each full iteration\n",
    "\n",
    "while True: # Run the following code untill the highest ratio on is less than or equal to convergence\n",
    "    with np.errstate(invalid='ignore'): # This is just to ignore warnings about dividing by 0\n",
    "        # Iteration based on ratio on\n",
    "        current_on = np.sum(estimated_matrix,1) # Calculate the current on (axis 1 is column-wise)\n",
    "        ratio_on = np.divide(target_on,current_on).reshape((5,1)) # Calculate the ratio on and reshape to 5x1 (row x column)\n",
    "        ratio_on[np.isnan(ratio_on)] = 1 # Replace any NaN value by 1 (NaN appears when dividing by 0, for example)\n",
    "        highest_ratio_on = np.absolute(np.subtract(ratio_on,1)).max() # Calculate current convergence\n",
    "        if highest_ratio_on > convergence: # If convergence is achieved, break the while loop\n",
    "            break\n",
    "        estimated_matrix = np.multiply(estimated_matrix, ratio_on) # Calculate OD matrix based on ratio on\n",
    "\n",
    "        # Iteration based on ratio off\n",
    "        current_off = np.sum(estimated_matrix,0) # Calculate the current off (axis 0 is row-wise)\n",
    "        ratio_off = np.divide(target_off,current_off) # Calculate the ratio off\n",
    "        ratio_off[np.isnan(ratio_off)] = 1 # Replace any NaN value by 1 (NaN appears when dividing by 0, for example)\n",
    "        estimated_matrix = np.multiply(estimated_matrix, ratio_off) # Calculate OD matrix based on ratio off"
   ]
  },
  {
   "cell_type": "code",
   "execution_count": 6,
   "id": "e53e44e0",
   "metadata": {},
   "outputs": [
    {
     "data": {
      "text/plain": [
       "array([[0., 1., 1., 1., 1.],\n",
       "       [0., 0., 1., 1., 1.],\n",
       "       [0., 0., 0., 1., 1.],\n",
       "       [0., 0., 0., 0., 1.],\n",
       "       [0., 0., 0., 0., 0.]])"
      ]
     },
     "execution_count": 6,
     "metadata": {},
     "output_type": "execute_result"
    }
   ],
   "source": [
    "estimated_matrix"
   ]
  }
 ],
 "metadata": {
  "hide_input": false,
  "kernelspec": {
   "display_name": "Python 3",
   "language": "python",
   "name": "python3"
  },
  "language_info": {
   "codemirror_mode": {
    "name": "ipython",
    "version": 3
   },
   "file_extension": ".py",
   "mimetype": "text/x-python",
   "name": "python",
   "nbconvert_exporter": "python",
   "pygments_lexer": "ipython3",
   "version": "3.8.8"
  }
 },
 "nbformat": 4,
 "nbformat_minor": 5
}
